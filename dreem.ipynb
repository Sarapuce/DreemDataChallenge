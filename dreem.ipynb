{
  "nbformat": 4,
  "nbformat_minor": 0,
  "metadata": {
    "kernelspec": {
      "name": "python3",
      "display_name": "Python 3"
    },
    "language_info": {
      "codemirror_mode": {
        "name": "ipython",
        "version": 3
      },
      "file_extension": ".py",
      "mimetype": "text/x-python",
      "name": "python",
      "nbconvert_exporter": "python",
      "pygments_lexer": "ipython3",
      "version": "3.7.3"
    },
    "colab": {
      "name": "dreem.ipynb",
      "version": "0.3.2",
      "provenance": [],
      "collapsed_sections": [],
      "machine_shape": "hm"
    },
    "accelerator": "GPU"
  },
  "cells": [
    {
      "cell_type": "code",
      "metadata": {
        "id": "dl-6WVntOL8t",
        "colab_type": "code",
        "colab": {}
      },
      "source": [
        "import h5py\n",
        "import pandas as pd\n",
        "import numpy as np\n",
        "import torch\n",
        "import matplotlib.pyplot as plt\n",
        "\n",
        "from sklearn.metrics import confusion_matrix\n",
        "from sklearn.ensemble import RandomForestClassifier\n",
        "from sklearn import preprocessing\n",
        "from tqdm import tqdm_notebook as tqdm\n",
        "import torch.utils.data as utils\n",
        "from torch.autograd import Variable\n",
        "from torchvision import transforms\n",
        "from torch import nn, optim\n",
        "import torch.nn.functional as F"
      ],
      "execution_count": 0,
      "outputs": []
    },
    {
      "cell_type": "code",
      "metadata": {
        "id": "6Uso1pV3OPL9",
        "colab_type": "code",
        "outputId": "9240a87c-8711-4c9c-c14c-a855694e676d",
        "colab": {
          "base_uri": "https://localhost:8080/",
          "height": 147
        }
      },
      "source": [
        "from google.colab import drive\n",
        "drive.mount('/gdrive')\n",
        "%cd /gdrive"
      ],
      "execution_count": 2,
      "outputs": [
        {
          "output_type": "stream",
          "text": [
            "Go to this URL in a browser: https://accounts.google.com/o/oauth2/auth?client_id=947318989803-6bn6qk8qdgf4n4g3pfee6491hc0brc4i.apps.googleusercontent.com&redirect_uri=urn%3Aietf%3Awg%3Aoauth%3A2.0%3Aoob&scope=email%20https%3A%2F%2Fwww.googleapis.com%2Fauth%2Fdocs.test%20https%3A%2F%2Fwww.googleapis.com%2Fauth%2Fdrive%20https%3A%2F%2Fwww.googleapis.com%2Fauth%2Fdrive.photos.readonly%20https%3A%2F%2Fwww.googleapis.com%2Fauth%2Fpeopleapi.readonly&response_type=code\n",
            "\n",
            "Enter your authorization code:\n",
            "··········\n",
            "Mounted at /gdrive\n",
            "/gdrive\n"
          ],
          "name": "stdout"
        }
      ]
    },
    {
      "cell_type": "code",
      "metadata": {
        "id": "BE-gKW_iOL9A",
        "colab_type": "code",
        "colab": {}
      },
      "source": [
        "x_train  = np.load('/gdrive/My Drive/data/Sxx.npy')\n",
        "x_train0 = np.load('/gdrive/My Drive/data/head.npy')\n",
        "\n",
        "x_test0  = x_train0[183143:]\n",
        "x_test   = x_train[183143:]\n",
        "x_train  = x_train[:183143]\n",
        "x_train0 = x_train0[:183143]"
      ],
      "execution_count": 0,
      "outputs": []
    },
    {
      "cell_type": "code",
      "metadata": {
        "id": "8YxMlRbgtx6e",
        "colab_type": "code",
        "colab": {}
      },
      "source": [
        "x_test = np.load('/gdrive/My Drive/data/Sxx.npy')[200000:220000]\n",
        "y_test = pd.read_csv(\"/gdrive/My Drive/data/y_train.csv\").values[200000:220000, 1].squeeze()"
      ],
      "execution_count": 0,
      "outputs": []
    },
    {
      "cell_type": "code",
      "metadata": {
        "id": "4tn4Ip36uDVu",
        "colab_type": "code",
        "colab": {}
      },
      "source": [
        "\n",
        "x_test  = torch.tensor(x_test).float()\n",
        "test_mean  = x_test.mean(dim = (1, 2), keepdim=True)\n",
        "test_std   = x_test.std(dim = (1, 2) ,keepdim=True)\n",
        "x_test  = (x_test - test_mean) / test_std\n",
        "x_test  = x_test.view([-1, 1, 65, 11])"
      ],
      "execution_count": 0,
      "outputs": []
    },
    {
      "cell_type": "code",
      "metadata": {
        "id": "NV9mTOcWOL9S",
        "colab_type": "code",
        "colab": {}
      },
      "source": [
        "y_train = pd.read_csv(\"/gdrive/My Drive/data/y_train.csv\").values[:183143, 1].squeeze()\n",
        "y_test = pd.read_csv(\"/gdrive/My Drive/data/y_train.csv\").values[183143:, 1].squeeze()"
      ],
      "execution_count": 0,
      "outputs": []
    },
    {
      "cell_type": "code",
      "metadata": {
        "id": "MM__lhivOL-C",
        "colab_type": "code",
        "colab": {}
      },
      "source": [
        "y_train = torch.tensor(y_train).long().cuda()\n",
        "y_test  = torch.tensor(y_test).long().cuda()"
      ],
      "execution_count": 0,
      "outputs": []
    },
    {
      "cell_type": "code",
      "metadata": {
        "id": "f5rwXv7aOL-N",
        "colab_type": "code",
        "colab": {}
      },
      "source": [
        "x_train  = torch.tensor(x_train).float().cuda()\n",
        "x_train0 = torch.tensor(x_train0).float().cuda()\n",
        "x_test   = torch.tensor(x_test).float().cuda()\n",
        "x_test0  = torch.tensor(x_test0).float().cuda()"
      ],
      "execution_count": 0,
      "outputs": []
    },
    {
      "cell_type": "code",
      "metadata": {
        "id": "-_i0ooo7OL-X",
        "colab_type": "code",
        "colab": {}
      },
      "source": [
        "test_mean   = x_test.mean(dim = 0, keepdim=True)\n",
        "test_std    = x_test.std(dim = 0,keepdim=True)\n",
        "train_mean  = x_train.mean(dim = 0,keepdim=True)\n",
        "train_std   = x_train.std(dim = 0,keepdim=True)\n",
        "test_mean0  = x_test0.mean(dim = 0, keepdim=True)\n",
        "test_std0   = x_test0.std(dim = 0,keepdim=True)\n",
        "train_mean0 = x_train0.mean(dim = 0,keepdim=True)\n",
        "train_std0  = x_train0.std(dim = 0,keepdim=True)"
      ],
      "execution_count": 0,
      "outputs": []
    },
    {
      "cell_type": "code",
      "metadata": {
        "id": "8dsqdKtwOL-2",
        "colab_type": "code",
        "colab": {}
      },
      "source": [
        "x_test   = (x_test - test_mean) / test_std\n",
        "x_train  = (x_train - train_mean) / train_std\n",
        "x_test0  = (x_test0 - test_mean0) / test_std0\n",
        "x_train0 = (x_train0 - train_mean0) / train_std0"
      ],
      "execution_count": 0,
      "outputs": []
    },
    {
      "cell_type": "code",
      "metadata": {
        "id": "HYR8cauDOL_H",
        "colab_type": "code",
        "colab": {}
      },
      "source": [
        "x_train  = x_train.view([-1, 1, 65, 11])\n",
        "x_test   = x_test.view([-1, 1, 65, 11])\n",
        "x_train0 = x_train0.view([-1, 11])\n",
        "x_test0  = x_test0.view([-1, 11])"
      ],
      "execution_count": 0,
      "outputs": []
    },
    {
      "cell_type": "code",
      "metadata": {
        "id": "41PFx9irOL_W",
        "colab_type": "code",
        "colab": {}
      },
      "source": [
        "train_data = utils.TensorDataset(x_train0, x_train, y_train)\n",
        "test_data  = utils.TensorDataset(x_test0, x_test, y_test)"
      ],
      "execution_count": 0,
      "outputs": []
    },
    {
      "cell_type": "code",
      "metadata": {
        "id": "lvXnfBI8OL_h",
        "colab_type": "code",
        "colab": {}
      },
      "source": [
        "train_loader = utils.DataLoader(train_data, batch_size=64, shuffle=True)\n",
        "test_loader  = utils.DataLoader(test_data, batch_size=64, shuffle=True)"
      ],
      "execution_count": 0,
      "outputs": []
    },
    {
      "cell_type": "code",
      "metadata": {
        "id": "Ch7aXQ_7OL_q",
        "colab_type": "code",
        "colab": {}
      },
      "source": [
        "class Net(nn.Module):\n",
        "    def __init__(self):\n",
        "        super(Net, self).__init__()\n",
        "        self.conv1 = nn.Conv2d(1, 16, (6, 2))\n",
        "        self.conv2 = nn.Conv2d(16, 64, (4, 2))\n",
        "        self.conv3 = nn.Conv2d(64, 128, (3, 3))\n",
        "        self.fc1   = nn.Linear(2560, 512)\n",
        "        self.fc2   = nn.Linear(512, 11)\n",
        "        self.fc3   = nn.Linear(22, 22)\n",
        "        self.fc4   = nn.Linear(22, 16)\n",
        "        self.fc5   = nn.Linear(16, 3)\n",
        "        self.drop_layer1 = nn.Dropout(p = 0.2)\n",
        "        self.drop_layer2 = nn.Dropout(p = 0.5)\n",
        "        \n",
        "    def forward(self, data, x):\n",
        "        x = self.conv1(x)\n",
        "        x = torch.cat((x[:, :, :30, :], F.max_pool2d(x[:, :, 30:, :], (3, 1), (3, 1))), 2)\n",
        "        x = self.conv2(x)\n",
        "        x = F.max_pool2d(x, 2, (2, 1), padding = (0, 1))\n",
        "        x = self.conv3(x)\n",
        "        x = F.max_pool2d(x, (3, 2), (3, 2))\n",
        "        x = x.view([-1, 2560])\n",
        "        x = self.fc1(x)\n",
        "        x = F.relu(x)\n",
        "        x = self.drop_layer1(x)\n",
        "        x = self.fc2(x)\n",
        "        x = F.relu(x)\n",
        "        x = torch.cat((data, x), dim = 1)\n",
        "        x = self.drop_layer1(x)\n",
        "        x = self.fc3(x)\n",
        "        x = F.relu(x)\n",
        "        x = self.drop_layer2(x)\n",
        "        x = self.fc4(x)\n",
        "        x = F.relu(x)\n",
        "        x = self.drop_layer2(x)\n",
        "        x = self.fc5(x)\n",
        "        return F.log_softmax(x, dim=1)"
      ],
      "execution_count": 0,
      "outputs": []
    },
    {
      "cell_type": "code",
      "metadata": {
        "id": "wBhZ3qEJOL_y",
        "colab_type": "code",
        "colab": {}
      },
      "source": [
        "loss_function = nn.NLLLoss()"
      ],
      "execution_count": 0,
      "outputs": []
    },
    {
      "cell_type": "code",
      "metadata": {
        "id": "StsvFAYMOL_5",
        "colab_type": "code",
        "colab": {}
      },
      "source": [
        "model = Net()"
      ],
      "execution_count": 0,
      "outputs": []
    },
    {
      "cell_type": "code",
      "metadata": {
        "id": "8hi7LkbrQJ_t",
        "colab_type": "code",
        "outputId": "a1e8c1ee-e9f7-4121-f946-1fe0b98bc539",
        "colab": {
          "base_uri": "https://localhost:8080/",
          "height": 237
        }
      },
      "source": [
        "model.cuda()"
      ],
      "execution_count": 47,
      "outputs": [
        {
          "output_type": "execute_result",
          "data": {
            "text/plain": [
              "Net(\n",
              "  (conv1): Conv2d(1, 16, kernel_size=(6, 2), stride=(1, 1))\n",
              "  (conv2): Conv2d(16, 64, kernel_size=(4, 2), stride=(1, 1))\n",
              "  (conv3): Conv2d(64, 128, kernel_size=(3, 3), stride=(1, 1))\n",
              "  (fc1): Linear(in_features=2560, out_features=512, bias=True)\n",
              "  (fc2): Linear(in_features=512, out_features=11, bias=True)\n",
              "  (fc3): Linear(in_features=22, out_features=22, bias=True)\n",
              "  (fc4): Linear(in_features=22, out_features=16, bias=True)\n",
              "  (fc5): Linear(in_features=16, out_features=3, bias=True)\n",
              "  (drop_layer1): Dropout(p=0.2)\n",
              "  (drop_layer2): Dropout(p=0.5)\n",
              ")"
            ]
          },
          "metadata": {
            "tags": []
          },
          "execution_count": 47
        }
      ]
    },
    {
      "cell_type": "code",
      "metadata": {
        "id": "Nf2zBwO3OMAK",
        "colab_type": "code",
        "colab": {}
      },
      "source": [
        "optimizer = optim.Adam(model.parameters())"
      ],
      "execution_count": 0,
      "outputs": []
    },
    {
      "cell_type": "code",
      "metadata": {
        "id": "y2LgKzTzOMAR",
        "colab_type": "code",
        "outputId": "82269385-b985-462a-aeb8-3e84a6cb890f",
        "colab": {
          "base_uri": "https://localhost:8080/",
          "height": 568
        }
      },
      "source": [
        "epochs = 50\n",
        "for e in range(epochs):\n",
        "    running_loss = 0\n",
        "    for data, img, labels in train_loader:\n",
        "        optimizer.zero_grad()\n",
        "        output = model(data, img)\n",
        "        loss = loss_function(output, labels)\n",
        "        loss.backward()\n",
        "        optimizer.step()\n",
        "        running_loss += loss.item()\n",
        "    else:\n",
        "        print(\"Epoch {} - Training loss: {}\".format(e, running_loss/len(train_loader)))"
      ],
      "execution_count": 0,
      "outputs": [
        {
          "output_type": "stream",
          "text": [
            "Epoch 0 - Training loss: 1.0402702856613655\n",
            "Epoch 1 - Training loss: 1.03282686734766\n",
            "Epoch 2 - Training loss: 1.0312119822748718\n",
            "Epoch 3 - Training loss: 1.0295170493304189\n",
            "Epoch 4 - Training loss: 1.029524381243208\n",
            "Epoch 5 - Training loss: 1.02970760690008\n",
            "Epoch 6 - Training loss: 1.029731024111342\n",
            "Epoch 7 - Training loss: 1.029576537431661\n",
            "Epoch 8 - Training loss: 1.0292952571566667\n",
            "Epoch 9 - Training loss: 1.0287545086577754\n",
            "Epoch 10 - Training loss: 1.0285797331359818\n",
            "Epoch 11 - Training loss: 1.0292416413416818\n",
            "Epoch 12 - Training loss: 1.0287510294292792\n",
            "Epoch 13 - Training loss: 1.0290169020702087\n",
            "Epoch 14 - Training loss: 1.0293236252396862\n",
            "Epoch 15 - Training loss: 1.0292841537610207\n",
            "Epoch 16 - Training loss: 1.028891286072741\n",
            "Epoch 17 - Training loss: 1.0292404462081581\n",
            "Epoch 18 - Training loss: 1.0286990354770884\n",
            "Epoch 19 - Training loss: 1.0297793952174157\n",
            "Epoch 20 - Training loss: 1.029500678712717\n",
            "Epoch 21 - Training loss: 1.0291226397728603\n",
            "Epoch 22 - Training loss: 1.0289263129442576\n",
            "Epoch 23 - Training loss: 1.0289784957902737\n",
            "Epoch 24 - Training loss: 1.028747853513867\n",
            "Epoch 25 - Training loss: 1.028184336478022\n",
            "Epoch 26 - Training loss: 1.0290345692034788\n",
            "Epoch 27 - Training loss: 1.0288634295441903\n",
            "Epoch 28 - Training loss: 1.0292643832210724\n",
            "Epoch 29 - Training loss: 1.0291464611794214\n"
          ],
          "name": "stdout"
        }
      ]
    },
    {
      "cell_type": "code",
      "metadata": {
        "id": "K6dzwiqQOMAf",
        "colab_type": "code",
        "colab": {}
      },
      "source": [
        "torch.save(model.state_dict(), '/gdrive/My Drive/data/Second')"
      ],
      "execution_count": 0,
      "outputs": []
    },
    {
      "cell_type": "code",
      "metadata": {
        "id": "jyam_frKkzWe",
        "colab_type": "code",
        "outputId": "0c80cf9a-b194-4667-846c-64b6d36882d5",
        "colab": {
          "base_uri": "https://localhost:8080/",
          "height": 35
        }
      },
      "source": [
        "model.load_state_dict(torch.load('/gdrive/My Drive/data/Second', map_location=lambda storage, loc: storage))"
      ],
      "execution_count": 0,
      "outputs": [
        {
          "output_type": "execute_result",
          "data": {
            "text/plain": [
              "IncompatibleKeys(missing_keys=[], unexpected_keys=[])"
            ]
          },
          "metadata": {
            "tags": []
          },
          "execution_count": 8
        }
      ]
    },
    {
      "cell_type": "code",
      "metadata": {
        "id": "LgNCDZRIOMBa",
        "colab_type": "code",
        "outputId": "26d85ea1-da61-4b37-e85b-cf83d33dca1b",
        "colab": {
          "base_uri": "https://localhost:8080/",
          "height": 146
        }
      },
      "source": [
        "model.eval()"
      ],
      "execution_count": 0,
      "outputs": [
        {
          "output_type": "execute_result",
          "data": {
            "text/plain": [
              "Net(\n",
              "  (conv1): Conv2d(1, 16, kernel_size=(6, 2), stride=(1, 1))\n",
              "  (conv2): Conv2d(16, 64, kernel_size=(4, 2), stride=(1, 1))\n",
              "  (conv3): Conv2d(64, 128, kernel_size=(3, 3), stride=(1, 1))\n",
              "  (fc1): Linear(in_features=2560, out_features=512, bias=True)\n",
              "  (fc2): Linear(in_features=512, out_features=3, bias=True)\n",
              ")"
            ]
          },
          "metadata": {
            "tags": []
          },
          "execution_count": 9
        }
      ]
    },
    {
      "cell_type": "code",
      "metadata": {
        "id": "Zh3H2IbyOMAo",
        "colab_type": "code",
        "outputId": "6d280758-e0e2-49b6-8269-10bac5a5777c",
        "colab": {
          "base_uri": "https://localhost:8080/",
          "height": 35
        }
      },
      "source": [
        "y_pred = []\n",
        "for data in tqdm(x_test):\n",
        "  res = torch.exp(model(data.view([1, 1, 65, 11])))\n",
        "  y_pred.append(res)"
      ],
      "execution_count": 0,
      "outputs": [
        {
          "output_type": "display_data",
          "data": {
            "application/vnd.jupyter.widget-view+json": {
              "model_id": "c633e674a11649ae80a05034f9da9969",
              "version_minor": 0,
              "version_major": 2
            },
            "text/plain": [
              "HBox(children=(IntProgress(value=0, max=20000), HTML(value='')))"
            ]
          },
          "metadata": {
            "tags": []
          }
        },
        {
          "output_type": "stream",
          "text": [
            "\n"
          ],
          "name": "stdout"
        }
      ]
    },
    {
      "cell_type": "code",
      "metadata": {
        "id": "nXERKG0ru5Rc",
        "colab_type": "code",
        "outputId": "32e3dea6-ec83-4d80-f673-4a856b8bddd3",
        "colab": {
          "base_uri": "https://localhost:8080/",
          "height": 35
        }
      },
      "source": [
        "test = []\n",
        "for data in tqdm(y_pred):\n",
        "  test.append(np.argmax(data.detach().numpy()))\n",
        "test = np.array(test)"
      ],
      "execution_count": 0,
      "outputs": [
        {
          "output_type": "display_data",
          "data": {
            "application/vnd.jupyter.widget-view+json": {
              "model_id": "75259242cd2848c1887f5ec8e00358a9",
              "version_minor": 0,
              "version_major": 2
            },
            "text/plain": [
              "HBox(children=(IntProgress(value=0, max=20000), HTML(value='')))"
            ]
          },
          "metadata": {
            "tags": []
          }
        },
        {
          "output_type": "stream",
          "text": [
            "\n"
          ],
          "name": "stdout"
        }
      ]
    },
    {
      "cell_type": "code",
      "metadata": {
        "id": "V2s7brRVOMA7",
        "colab_type": "code",
        "colab": {}
      },
      "source": [
        "test = np.argmax(y_pred.detach().numpy(), axis = 1)"
      ],
      "execution_count": 0,
      "outputs": []
    },
    {
      "cell_type": "code",
      "metadata": {
        "id": "XBwx32-aOMBG",
        "colab_type": "code",
        "outputId": "8cfe6af8-6828-4ea7-edb7-1b59491e924c",
        "colab": {
          "base_uri": "https://localhost:8080/",
          "height": 35
        }
      },
      "source": [
        "np.sum(test == y_test)/len(y_test)"
      ],
      "execution_count": 0,
      "outputs": [
        {
          "output_type": "execute_result",
          "data": {
            "text/plain": [
              "0.48915"
            ]
          },
          "metadata": {
            "tags": []
          },
          "execution_count": 12
        }
      ]
    },
    {
      "cell_type": "code",
      "metadata": {
        "id": "edzzkssAOMBL",
        "colab_type": "code",
        "outputId": "8f995c31-35c4-4eb9-94e8-ebf217ec3191",
        "colab": {}
      },
      "source": [
        "np.sum(test == y_test)/len(y_test)"
      ],
      "execution_count": 0,
      "outputs": [
        {
          "output_type": "execute_result",
          "data": {
            "text/plain": [
              "0.5131034131301678"
            ]
          },
          "metadata": {
            "tags": []
          },
          "execution_count": 27
        }
      ]
    },
    {
      "cell_type": "code",
      "metadata": {
        "id": "sx9HsR1eOMBf",
        "colab_type": "code",
        "colab": {}
      },
      "source": [
        "df = pd.DataFrame()\n",
        "df['id'] = range(len(test))\n",
        "df['label'] = test\n",
        "df.to_csv('./data/result.csv')"
      ],
      "execution_count": 0,
      "outputs": []
    },
    {
      "cell_type": "code",
      "metadata": {
        "id": "07TDEMBOOMBt",
        "colab_type": "code",
        "colab": {}
      },
      "source": [
        ""
      ],
      "execution_count": 0,
      "outputs": []
    }
  ]
}