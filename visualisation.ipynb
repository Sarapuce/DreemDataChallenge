{
 "cells": [
  {
   "cell_type": "code",
   "execution_count": 1,
   "metadata": {},
   "outputs": [],
   "source": [
    "import h5py\n",
    "import pandas as pd\n",
    "import numpy as np\n",
    "import matplotlib.pyplot as plt\n",
    "from tqdm import tqdm_notebook as tqdm"
   ]
  },
  {
   "cell_type": "code",

   "execution_count": 20,

   "metadata": {},
   "outputs": [],
   "source": [
    "x_train = h5py.File(\"./data/X_train.h5\", \"r\")\n",
    "y_train = pd.read_csv(\"./data/y_train.csv\").values[:, 1].squeeze()"
   ]
  },
  {
   "cell_type": "code",

   "execution_count": 21,
   "metadata": {},
   "outputs": [],
   "source": [
    "x_train = x_train[\"features\"][:, :11]\n",
    "y_train = y_train[:100]"

   ]
  },
  {
   "cell_type": "code",

   "execution_count": 25,
   "metadata": {},
   "outputs": [],
   "source": [
    "def one_hot(x):\n",
    "    if x == 2:\n",
    "        return np.array([1, 0])\n",
    "    else:\n",
    "        return np.array([0, 1])"
   ]
  },
  {
   "cell_type": "code",
   "execution_count": 36,
   "metadata": {},
   "outputs": [],
   "source": [
    "x_train2 = np.zeros((len(x_train), 12))\n",
    "for j, i in enumerate(x_train):\n",
    "    hot = one_hot(i[5])\n",
    "    x_train2[j] = np.concatenate([i[:5], hot, i[6:]])"
   ]
  },
  {
   "cell_type": "code",
   "execution_count": 43,
   "metadata": {},
   "outputs": [],
   "source": [
    "mini = np.min(x_train2, axis = 0)\n",
    "maxi = np.max(x_train2, axis = 0)"
   ]
  },
  {
   "cell_type": "code",
   "execution_count": 45,
   "metadata": {},
   "outputs": [],
   "source": [
    "x_train2 = (x_train2 - mini)/(maxi - mini)"
   ]
  },
  {
   "cell_type": "code",
   "execution_count": 51,
   "metadata": {},
   "outputs": [],
   "source": [
    "np.save('/data/head', x_train2)"
   ]
  },
  {
   "cell_type": "code",
   "execution_count": 50,
   "metadata": {},
   "outputs": [
    {
     "data": {
      "text/plain": [
       "(261634, 12)"
      ]
     },
     "execution_count": 50,
     "metadata": {},
     "output_type": "execute_result"
    }
   ],
   "source": [
    "x_train2.shape"
   ]
  },
  {
   "cell_type": "code",
   "execution_count": 95,
   "metadata": {},
   "outputs": [],
   "source": [
    "def print_eeg_label(label):\n",
    "    valid = x_train[y_train == label]\n",
    "    eeg = valid[np.random.randint(valid.shape[0])][11:]\n",
    "    plt.plot(eeg)"
   ]
  },
  {
   "cell_type": "code",
   "execution_count": 5,
   "metadata": {},
   "outputs": [],
   "source": [
    "def print_eeg_fft(label):\n",
    "    valid = x_train[y_train == label]\n",
    "    eeg   = valid[np.random.randint(valid.shape[0])][11:]\n",
    "    freq  = np.fft.fftfreq(eeg.shape[0]) \n",
    "    plt.plot(freq*125, np.abs(np.fft.fft(eeg)))"
   ]
  },
  {
   "cell_type": "code",
   "execution_count": 189,
   "metadata": {},
   "outputs": [],
   "source": [
    "maxis = np.max(np.abs(x_train[:, 11:]), axis = -1)\n",
    "mean  = np.mean(np.abs(x_train[:, 11:]), axis = -1)"
   ]
  },
  {
   "cell_type": "code",
   "execution_count": 190,

   "metadata": {},
   "outputs": [
    {
     "data": {

      "text/plain": [
       "130.24835340836495"
      ]
     },
     "execution_count": 190,
     "metadata": {},
     "output_type": "execute_result"
    }
   ],
   "source": [
    "maxis.mean()"
   ]
  },
  {
   "cell_type": "code",
   "execution_count": 199,
   "metadata": {},
   "outputs": [
    {
     "data": {
      "image/png": "[encoded data removed]",

      "text/plain": [
       "<Figure size 432x288 with 1 Axes>"
      ]
     },
     "metadata": {
      "needs_background": "light"
     },
     "output_type": "display_data"
    }
   ],
   "source": [

    "_ = plt.hist(mean, bins = range(0, 200))"
   ]
  },
  {
   "cell_type": "code",
   "execution_count": 192,
   "metadata": {},
   "outputs": [
    {
     "data": {
      "image/png": "[encoded data removed]",
      "text/plain": [
       "<Figure size 432x288 with 1 Axes>"
      ]
     },
     "metadata": {
      "needs_background": "light"
     },
     "output_type": "display_data"
    }
   ],
   "source": [

    "prob, _, u = plt.hist(maxis, bins = range(0, 1000), density = True)"
   ]
  },
  {
   "cell_type": "code",
   "execution_count": 193,
   "metadata": {},
   "outputs": [
    {
     "data": {
      "text/plain": [
       "0.9488048804880489"
      ]
     },
     "execution_count": 193,
     "metadata": {},
     "output_type": "execute_result"
    }
   ],
   "source": [
    "np.sum(prob[:205])"
   ]
  },
  {
   "cell_type": "code",
   "execution_count": 194,
   "metadata": {},
   "outputs": [],
   "source": [
    "x_train = np.clip(x_train, -205, 205)"
   ]
  },
  {
   "cell_type": "code",
   "execution_count": 197,
   "metadata": {},
   "outputs": [],
   "source": [
    "x_train = 2*((x_train + 205) / 410) - 1"
   ]
  },
  {
   "cell_type": "code",
   "execution_count": null,
   "metadata": {},
   "outputs": [],
   "source": []
  }
 ],
 "metadata": {
  "kernelspec": {
   "display_name": "Python 3",
   "language": "python",
   "name": "python3"
  },
  "language_info": {
   "codemirror_mode": {
    "name": "ipython",
    "version": 3
   },
   "file_extension": ".py",
   "mimetype": "text/x-python",
   "name": "python",
   "nbconvert_exporter": "python",
   "pygments_lexer": "ipython3",
   "version": "3.7.3"
  }
 },
 "nbformat": 4,
 "nbformat_minor": 4
}
