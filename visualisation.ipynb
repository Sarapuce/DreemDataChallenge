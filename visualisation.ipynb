{
 "cells": [
  {
   "cell_type": "code",
   "execution_count": 1,
   "metadata": {},
   "outputs": [],
   "source": [
    "import h5py\n",
    "import pandas as pd\n",
    "import numpy as np\n",
    "import matplotlib.pyplot as plt\n",
    "from tqdm import tqdm_notebook as tqdm"
   ]
  },
  {
   "cell_type": "code",
   "execution_count": 187,
   "metadata": {},
   "outputs": [],
   "source": [
    "x_train = h5py.File(\"./data/X_train.h5\", \"r\")\n",
    "y_train = pd.read_csv(\"./data/y_train.csv\").values[:, 1].squeeze()"
   ]
  },
  {
   "cell_type": "code",
   "execution_count": 188,
   "metadata": {},
   "outputs": [],
   "source": [
    "x_train = x_train[\"features\"][:100000, 11:]\n",
    "y_train = y_train[:10000]"
   ]
  },
  {
   "cell_type": "code",
   "execution_count": 95,
   "metadata": {},
   "outputs": [],
   "source": [
    "def print_eeg_label(label):\n",
    "    valid = x_train[y_train == label]\n",
    "    eeg = valid[np.random.randint(valid.shape[0])][11:]\n",
    "    plt.plot(eeg)"
   ]
  },
  {
   "cell_type": "code",
   "execution_count": 5,
   "metadata": {},
   "outputs": [],
   "source": [
    "def print_eeg_fft(label):\n",
    "    valid = x_train[y_train == label]\n",
    "    eeg   = valid[np.random.randint(valid.shape[0])][11:]\n",
    "    freq  = np.fft.fftfreq(eeg.shape[0]) \n",
    "    plt.plot(freq*125, np.abs(np.fft.fft(eeg)))"
   ]
  },
  {
   "cell_type": "code",
   "execution_count": 189,
   "metadata": {},
   "outputs": [],
   "source": [
    "maxis = np.max(np.abs(x_train[:, 11:]), axis = -1)\n",
    "mean  = np.mean(np.abs(x_train[:, 11:]), axis = -1)"
   ]
  },
  {
   "cell_type": "code",
   "execution_count": 190,
   "metadata": {},
   "outputs": [
    {
     "data": {
      "text/plain": [
       "130.24835340836495"
      ]
     },
     "execution_count": 190,
     "metadata": {},
     "output_type": "execute_result"
    }
   ],
   "source": [
    "maxis.mean()"
   ]
  },
  {
   "cell_type": "code",
   "execution_count": 191,
   "metadata": {},
   "outputs": [
    {
     "data": {
      "image/png": "[encoded data removed]",
      "text/plain": [
       "<Figure size 432x288 with 1 Axes>"
      ]
     },
     "metadata": {
      "needs_background": "light"
     },
     "output_type": "display_data"
    }
   ],
   "source": [
    "_ = plt.hist(mean)"
   ]
  },
  {
   "cell_type": "code",
   "execution_count": 192,
   "metadata": {},
   "outputs": [
    {
     "data": {
      "image/png": "[encoded data removed]",
      "text/plain": [
       "<Figure size 432x288 with 1 Axes>"
      ]
     },
     "metadata": {
      "needs_background": "light"
     },
     "output_type": "display_data"
    }
   ],
   "source": [
    "prob, _, u = plt.hist(maxis, bins = range(0, 1000), density = True)"
   ]
  },
  {
   "cell_type": "code",
   "execution_count": 193,
   "metadata": {},
   "outputs": [
    {
     "data": {
      "text/plain": [
       "0.9488048804880489"
      ]
     },
     "execution_count": 193,
     "metadata": {},
     "output_type": "execute_result"
    }
   ],
   "source": [
    "np.sum(prob[:205])"
   ]
  },
  {
   "cell_type": "code",
   "execution_count": 194,
   "metadata": {},
   "outputs": [],
   "source": [
    "x_train = np.clip(x_train, -205, 205)"
   ]
  },
  {
   "cell_type": "code",
   "execution_count": 197,
   "metadata": {},
   "outputs": [],
   "source": [
    "x_train = 2*((x_train + 205) / 410) - 1"
   ]
  },
  {
   "cell_type": "code",
   "execution_count": 198,
   "metadata": {},
   "outputs": [
    {
     "data": {
      "text/plain": [
       "array([[-1.        , -1.        , -1.        , ..., -0.00591407,\n",
       "        -0.01200945, -0.02405072],\n",
       "       [ 0.15995349,  0.13622527,  0.10526809, ...,  0.03828471,\n",
       "         0.01967569, -0.01029291],\n",
       "       [-0.0078824 , -0.01082598, -0.04167402, ..., -0.06275077,\n",
       "        -0.05829842, -0.02698439],\n",
       "       ...,\n",
       "       [ 0.40950308,  0.4529754 ,  0.45304307, ...,  0.03772954,\n",
       "         0.06236977, -0.01656109],\n",
       "       [ 0.84510188,  0.81360654,  0.78907857, ..., -0.04092669,\n",
       "        -0.01446088,  0.00656508],\n",
       "       [ 0.02328443, -0.00715044,  0.01424072, ..., -0.06175818,\n",
       "        -0.08623883, -0.04997676]])"
      ]
     },
     "execution_count": 198,
     "metadata": {},
     "output_type": "execute_result"
    }
   ],
   "source": [
    "x_train"
   ]
  },
  {
   "cell_type": "code",
   "execution_count": null,
   "metadata": {},
   "outputs": [],
   "source": []
  }
 ],
 "metadata": {
  "kernelspec": {
   "display_name": "Python 3",
   "language": "python",
   "name": "python3"
  },
  "language_info": {
   "codemirror_mode": {
    "name": "ipython",
    "version": 3
   },
   "file_extension": ".py",
   "mimetype": "text/x-python",
   "name": "python",
   "nbconvert_exporter": "python",
   "pygments_lexer": "ipython3",
   "version": "3.7.3"
  }
 },
 "nbformat": 4,
 "nbformat_minor": 4
}
