{
 "cells": [
  {
   "cell_type": "code",
   "execution_count": 1,
   "metadata": {},
   "outputs": [],
   "source": [
    "import h5py\n",
    "import pandas as pd\n",
    "import numpy as np\n",
    "import matplotlib.pyplot as plt\n",
    "from tqdm import tqdm_notebook as tqdm"
   ]
  },
  {
   "cell_type": "code",
   "execution_count": 2,
   "metadata": {},
   "outputs": [],
   "source": [
    "x_train = h5py.File(\"./data/X_train.h5\", \"r\")\n",
    "y_train = pd.read_csv(\"./data/y_train.csv\").values[:, 1].squeeze()"
   ]
  },
  {
   "cell_type": "code",
   "execution_count": 14,
   "metadata": {},
   "outputs": [],
   "source": [
    "x_train = x_train[\"features\"][:1000]\n",
    "y_train = y_train[:1000]"
   ]
  },
  {
   "cell_type": "code",
   "execution_count": 28,
   "metadata": {},
   "outputs": [],
   "source": [
    "def print_eeg_label(label):\n",
    "    valid = x_train[y_train == label]\n",
    "    eeg = valid[np.random.randint(valid.shape[0])][11:]\n",
    "    plt.plot(eeg)"
   ]
  },
  {
   "cell_type": "code",
   "execution_count": 104,
   "metadata": {},
   "outputs": [],
   "source": [
    "def print_eeg_fft(label):\n",
    "    valid = x_train[y_train == label]\n",
    "    eeg   = valid[np.random.randint(valid.shape[0])][11:]\n",
    "    freq  = np.fft.fftfreq(eeg.shape[0]) \n",
    "    plt.plot(freq*125, np.abs(np.fft.fft(eeg)))"
   ]
  },
  {
   "cell_type": "code",
   "execution_count": 105,
   "metadata": {},
   "outputs": [
    {
     "data": {
      "image/png": "[encoded data removed]",
      "text/plain": [
       "<Figure size 432x288 with 1 Axes>"
      ]
     },
     "metadata": {
      "needs_background": "light"
     },
     "output_type": "display_data"
    }
   ],
   "source": [
    "print_eeg_fft(0)"
   ]
  },
  {
   "cell_type": "code",
   "execution_count": 42,
   "metadata": {},
   "outputs": [
    {
     "data": {
      "text/plain": [
       "array([[ 1.76000000e+02,  1.46883435e+02,  3.38039773e+02, ...,\n",
       "         7.84836548e+00,  4.03351707e+00, -2.11004645e+00],\n",
       "       [ 4.56000000e+02,  1.52376541e+02,  3.35629386e+02, ...,\n",
       "        -1.28639078e+01, -1.19511753e+01, -5.53179900e+00],\n",
       "       [ 2.10000000e+01,  1.39720772e+02,  3.36285714e+02, ...,\n",
       "         1.66707113e-01,  6.05453866e+00,  1.20863507e+01],\n",
       "       ...,\n",
       "       [ 3.60000000e+01,  1.44834255e+02,  2.60472222e+02, ...,\n",
       "        -1.89887276e+01, -1.62790626e+01, -6.30519552e+00],\n",
       "       [ 3.88000000e+02,  1.40427628e+02,  2.95984536e+02, ...,\n",
       "         3.11106388e+00,  2.65960274e+00,  5.22418756e+00],\n",
       "       [ 7.10000000e+01,  1.40760121e+02,  2.87267606e+02, ...,\n",
       "        -4.36847771e+01, -4.12768076e+01, -3.99769169e+01]])"
      ]
     },
     "execution_count": 42,
     "metadata": {},
     "output_type": "execute_result"
    }
   ],
   "source": [
    "x_train[y_train == 1]"
   ]
  },
  {
   "cell_type": "code",
   "execution_count": null,
   "metadata": {},
   "outputs": [],
   "source": []
  }
 ],
 "metadata": {
  "kernelspec": {
   "display_name": "Python 3",
   "language": "python",
   "name": "python3"
  },
  "language_info": {
   "codemirror_mode": {
    "name": "ipython",
    "version": 3
   },
   "file_extension": ".py",
   "mimetype": "text/x-python",
   "name": "python",
   "nbconvert_exporter": "python",
   "pygments_lexer": "ipython3",
   "version": "3.7.3"
  }
 },
 "nbformat": 4,
 "nbformat_minor": 4
}
